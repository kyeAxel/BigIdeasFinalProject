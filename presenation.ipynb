{
 "cells": [
  {
   "cell_type": "code",
   "execution_count": null,
   "id": "a984ac21-c06c-47b6-bd4b-58872e49c151",
   "metadata": {},
   "outputs": [],
   "source": [
    "import pandas as pd\n",
    "import matplotlib.pyplot as plt\n",
    "\n",
    "# Load the data\n",
    "data = pd.read_csv('TrafficData.tsv', sep='\\t')\n",
    "\n",
    "# Drop rows with missing values in 'neighborhood' or average_daily_car_traffic columns\n",
    "filtered_data = data.dropna(subset=['neighborhood', 'average_daily_car_traffic'])\n",
    "\n",
    "# Calculate the average daily car traffic per neighborhood\n",
    "traffic_by_neighborhood = filtered_data.groupby('neighborhood')['average_daily_car_traffic'].mean()\n",
    "\n",
    "# Plot the bar chart\n",
    "plt.figure(figsize=(12, 8))\n",
    "traffic_by_neighborhood.sort_values().plot(kind='bar', color='skyblue')\n",
    "plt.title('Average Daily Car Traffic by Neighborhood')\n",
    "plt.xlabel('Neighborhood')\n",
    "plt.ylabel('Average Daily Car Traffic')\n",
    "plt.xticks(rotation=90)\n",
    "plt.tight_layout()\n",
    "plt.show()"
   ]
  },
  {
   "cell_type": "code",
   "execution_count": null,
   "id": "65417cc3-0640-4c54-89bd-fbc38da99afb",
   "metadata": {},
   "outputs": [],
   "source": [
    "import pandas as pd\n",
    "import matplotlib.pyplot as plt\n",
    "\n",
    "# Load the data\n",
    "traffic_data = pd.read_csv('Lights.csv')\n",
    "\n",
    "# Count the number of traffic lights per neighborhood\n",
    "traffic_light_counts = traffic_data['neighborhood'].value_counts()\n",
    "\n",
    "# Plot the bar chart\n",
    "plt.figure(figsize=(12, 8))\n",
    "traffic_light_counts.sort_values().plot(kind='bar', color='orange')\n",
    "plt.title('Number of Traffic Lights by Neighborhood')\n",
    "plt.xlabel('Neighborhood')\n",
    "plt.ylabel('Number of Traffic Lights')\n",
    "plt.xticks(rotation=90)\n",
    "plt.tight_layout()\n",
    "plt.show()"
   ]
  },
  {
   "cell_type": "code",
   "execution_count": null,
   "id": "3db25710-6c79-44a4-9a35-927bd4c99fcc",
   "metadata": {},
   "outputs": [],
   "source": [
    "import pandas as pd\n",
    "import matplotlib.pyplot as plt\n",
    "\n",
    "# Load the data\n",
    "speed_hump_data = pd.read_csv('Speedbumps.csv')\n",
    "\n",
    "# Count the number of speed humps per neighborhood\n",
    "speed_hump_counts = speed_hump_data['neighborhood'].value_counts()\n",
    "\n",
    "# Plot the bar chart\n",
    "plt.figure(figsize=(12, 8))\n",
    "speed_hump_counts.sort_values().plot(kind='bar', color='green')\n",
    "plt.title('Number of Speed Humps by Neighborhood')\n",
    "plt.xlabel('Neighborhood')\n",
    "plt.ylabel('Number of Speed Humps')\n",
    "plt.xticks(rotation=90)\n",
    "plt.tight_layout()\n",
    "plt.show()"
   ]
  }
 ],
 "metadata": {
  "kernelspec": {
   "display_name": "Python 3 (ipykernel)",
   "language": "python",
   "name": "python3"
  },
  "language_info": {
   "codemirror_mode": {
    "name": "ipython",
    "version": 3
   },
   "file_extension": ".py",
   "mimetype": "text/x-python",
   "name": "python",
   "nbconvert_exporter": "python",
   "pygments_lexer": "ipython3",
   "version": "3.12.4"
  }
 },
 "nbformat": 4,
 "nbformat_minor": 5
}
